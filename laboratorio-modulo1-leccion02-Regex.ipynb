{
 "cells": [
  {
   "cell_type": "markdown",
   "metadata": {},
   "source": [
    "<div style=\"text-align: center;\">\n",
    "  <img src=\"https://github.com/Hack-io-Data/Imagenes/blob/main/01-LogosHackio/logo_naranja@4x.png?raw=true\" alt=\"esquema\" />\n",
    "</div>"
   ]
  },
  {
   "cell_type": "markdown",
   "metadata": {},
   "source": [
    "# Laboratorio de Regex:"
   ]
  },
  {
   "cell_type": "markdown",
   "metadata": {},
   "source": [
    "### Ejercicio 1: Extracción de datos.\n",
    "\n",
    "Recuerda que necesitamos hacer importaciones antes de enfrentarnos a un problema. "
   ]
  },
  {
   "cell_type": "code",
   "execution_count": 2,
   "metadata": {},
   "outputs": [],
   "source": [
    "# Importaciones:\n",
    "## Para trabajar con expresiones regulares\n",
    "import re \n",
    "\n",
    "## Para contar las palabras de un texto \n",
    "from collections import Counter "
   ]
  },
  {
   "cell_type": "markdown",
   "metadata": {},
   "source": [
    "Dado el archivo `datos_artistas.txt` usa las **expresiones regulares** para extraer los siguientes datos, con el código que encontrarás en la siguiente celda:"
   ]
  },
  {
   "cell_type": "code",
   "execution_count": 3,
   "metadata": {},
   "outputs": [
    {
     "name": "stdout",
     "output_type": "stream",
     "text": [
      "BobDylan bob.dylan@gmail.com -1 123456789 http://bobdylan.com Like a Rolling Stone - 6:13 1965 Once upon a time you dressed so fine\n",
      "Threw the bums a dime in your prime, didn't you?\n",
      "People call say 'be\n"
     ]
    }
   ],
   "source": [
    "with open('Datos/datos_artistas.txt', 'r',-1,\"utf-8\") as archivo:\n",
    "    contenido = archivo.read()\n",
    "    # Aquí puedes trabajar con el contenido del archivo\n",
    "\n",
    "print(contenido[:200])"
   ]
  },
  {
   "cell_type": "markdown",
   "metadata": {},
   "source": [
    "#### 1.1 La información de cada artista(nombre, correo de contacto, número de contacto y sitio web)."
   ]
  },
  {
   "cell_type": "code",
   "execution_count": 69,
   "metadata": {},
   "outputs": [
    {
     "name": "stdout",
     "output_type": "stream",
     "text": [
      "[['BobDylan'], ['bob.dylan@gmail.com'], ['1 123456789'], ['http://bobdylan.com']]\n",
      "[['TheBeatles'], ['contact@thebeatles.co.uk'], ['44 234567890'], ['http://thebeatles.co.uk']]\n",
      "[['EltonJohn'], ['elton.john@hotmail.com'], ['34 345678901'], ['http://eltonjohn.com']]\n",
      "[['Queen'], ['info@queenonline.com'], ['23 456789012'], ['http://queenonline.com']]\n",
      "[['MichaelJackson'], ['michael.jackson@yahoo.com'], ['1 567890123'], ['http://michaeljackson.com']]\n",
      "[['Madonna'], ['madonna@madonna.com'], ['11 678901234'], ['http://madonna.com']]\n",
      "[['DavidBowie'], ['david.bowie@outlook.com'], ['44 789012345'], ['http://davidbowie.com']]\n",
      "[['Nirvana'], ['contact@nirvana.com'], ['2 890123456'], ['http://nirvana.com']]\n",
      "[['Adele'], ['adele@adele.com'], ['44 901234567'], ['http://adele.com']]\n",
      "[['EdSheeran'], ['ed.sheeran@gmail.com'], ['44 123456789'], ['http://edsheeran.com']]\n",
      "[['Beyoncé'], ['beyonce@beyonce.com'], ['1 234567890'], ['http://beyonce.com']]\n",
      "[['TaylorSwift'], ['taylor.swift@yahoo.com'], ['34 345678901'], ['http://taylorswift.com']]\n",
      "[['Rihanna'], ['rihanna@hotmail.com'], ['1 456789012'], ['http://rihanna.com']]\n",
      "[['Drake'], ['drake@drake.com'], ['54 567890123'], ['http://drake.com']]\n",
      "[['KanyeWest'], ['kanye.west@gmail.com'], ['13 678901234'], ['http://kanyewest.com']]\n",
      "[['BrunoMars'], ['bruno.mars@outlook.com'], ['1 789012345'], ['https://brunomars.com']]\n",
      "[['ArianaGrande'], ['ariana.grande@yahoo.com'], ['23 890123456'], ['https://arianagrande.com']]\n",
      "[['Shakira'], ['shakira@hotmail.com'], ['57 123456789'], ['http://shakira.com']]\n",
      "[['Coldplay'], ['info@coldplay.com'], ['57 234567890'], ['http://coldplay.com']]\n",
      "[['LadyGaga'], ['lady.gaga@gmail.com'], ['34 345678901'], ['https://ladygaga.com']]\n"
     ]
    }
   ],
   "source": [
    "patron_correo = r\"[\\w.+-]+@[\\w-]+\\.[\\w.-]+\"\n",
    "patron_web = r\"(?P<url>https?://[^\\s]+)\"\n",
    "patron_telefono = r\"\\d{1,2}\\s\\d{9}\"\n",
    "patron_nombre = r\"^\\w+\"\n",
    "lista_salida = []\n",
    "\n",
    "cadena_split = contenido.split('./')\n",
    "\n",
    "for c in cadena_split:\n",
    "    #print(\"--\" + c)\n",
    "    sub_lista = []\n",
    "    sub_lista.append(re.findall(patron_nombre, c))\n",
    "    sub_lista.append(re.findall(patron_correo, c)) \n",
    "    sub_lista.append(re.findall(patron_telefono, c))\n",
    "    sub_lista.append(re.findall(patron_web, c))\n",
    "    \n",
    "    print(sub_lista)\n"
   ]
  },
  {
   "cell_type": "markdown",
   "metadata": {},
   "source": [
    "#### 1.2 La información de cada canción(título, duración y fecha de lanzamiento)."
   ]
  },
  {
   "cell_type": "code",
   "execution_count": 14,
   "metadata": {},
   "outputs": [],
   "source": []
  },
  {
   "cell_type": "markdown",
   "metadata": {},
   "source": [
    "#### 1.3 Almacena la información en una lista de diccionarios donde cada diccionario contenga los datos de un artista y su canción asociada."
   ]
  },
  {
   "cell_type": "code",
   "execution_count": 17,
   "metadata": {},
   "outputs": [],
   "source": []
  },
  {
   "cell_type": "markdown",
   "metadata": {},
   "source": [
    "### Ejercicio 2: Análisis de datos\n",
    "Usa las **expresiones regulares** para extraer la siguiente información:"
   ]
  },
  {
   "cell_type": "markdown",
   "metadata": {},
   "source": [
    "#### 2.1 Busca la palabra más repetida en el texto completo.\n"
   ]
  },
  {
   "cell_type": "code",
   "execution_count": 19,
   "metadata": {},
   "outputs": [],
   "source": []
  },
  {
   "cell_type": "markdown",
   "metadata": {},
   "source": [
    "#### 2.2 Busca la palabra que más repetida en cada cación.\n"
   ]
  },
  {
   "cell_type": "code",
   "execution_count": 11,
   "metadata": {},
   "outputs": [],
   "source": []
  },
  {
   "cell_type": "markdown",
   "metadata": {},
   "source": [
    "#### 2.3 Busca el nombre de la canción que más dura.\n"
   ]
  },
  {
   "cell_type": "code",
   "execution_count": 30,
   "metadata": {},
   "outputs": [],
   "source": []
  },
  {
   "cell_type": "markdown",
   "metadata": {},
   "source": [
    "#### 2.4 Busca el nombre de la canción que menos dura."
   ]
  },
  {
   "cell_type": "code",
   "execution_count": null,
   "metadata": {},
   "outputs": [],
   "source": []
  },
  {
   "cell_type": "markdown",
   "metadata": {},
   "source": [
    "#### 2.5 Busca el nombre y la fecha de lanzamiento de la canción más actual."
   ]
  },
  {
   "cell_type": "code",
   "execution_count": 39,
   "metadata": {},
   "outputs": [],
   "source": []
  },
  {
   "cell_type": "markdown",
   "metadata": {},
   "source": [
    "#### 2.6 Calcula la cantidad de países a partir de los números de contacto."
   ]
  },
  {
   "cell_type": "code",
   "execution_count": 43,
   "metadata": {},
   "outputs": [],
   "source": []
  },
  {
   "cell_type": "markdown",
   "metadata": {},
   "source": [
    "#### 2.7 Agrupa las canciones por década."
   ]
  },
  {
   "cell_type": "code",
   "execution_count": 47,
   "metadata": {},
   "outputs": [],
   "source": []
  }
 ],
 "metadata": {
  "kernelspec": {
   "display_name": "envpruebas",
   "language": "python",
   "name": "python3"
  },
  "language_info": {
   "codemirror_mode": {
    "name": "ipython",
    "version": 3
   },
   "file_extension": ".py",
   "mimetype": "text/x-python",
   "name": "python",
   "nbconvert_exporter": "python",
   "pygments_lexer": "ipython3",
   "version": "3.12.5"
  }
 },
 "nbformat": 4,
 "nbformat_minor": 2
}
