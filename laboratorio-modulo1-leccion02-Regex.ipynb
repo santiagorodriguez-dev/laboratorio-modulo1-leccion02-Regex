{
 "cells": [
  {
   "cell_type": "markdown",
   "metadata": {},
   "source": [
    "<div style=\"text-align: center;\">\n",
    "  <img src=\"https://github.com/Hack-io-Data/Imagenes/blob/main/01-LogosHackio/logo_naranja@4x.png?raw=true\" alt=\"esquema\" />\n",
    "</div>"
   ]
  },
  {
   "cell_type": "markdown",
   "metadata": {},
   "source": [
    "# Laboratorio de Regex:"
   ]
  },
  {
   "cell_type": "markdown",
   "metadata": {},
   "source": [
    "### Ejercicio 1: Extracción de datos.\n",
    "\n",
    "Recuerda que necesitamos hacer importaciones antes de enfrentarnos a un problema. "
   ]
  },
  {
   "cell_type": "code",
   "execution_count": 2,
   "metadata": {},
   "outputs": [],
   "source": [
    "# Importaciones:\n",
    "## Para trabajar con expresiones regulares\n",
    "import re \n",
    "\n",
    "## Para contar las palabras de un texto \n",
    "from collections import Counter "
   ]
  },
  {
   "cell_type": "markdown",
   "metadata": {},
   "source": [
    "Dado el archivo `datos_artistas.txt` usa las **expresiones regulares** para extraer los siguientes datos, con el código que encontrarás en la siguiente celda:"
   ]
  },
  {
   "cell_type": "code",
   "execution_count": 3,
   "metadata": {},
   "outputs": [
    {
     "name": "stdout",
     "output_type": "stream",
     "text": [
      "BobDylan bob.dylan@gmail.com -1 123456789 http://bobdylan.com Like a Rolling Stone - 6:13 1965 Once upon a time you dressed so fine\n",
      "Threw the bums a dime in your prime, didn't you?\n",
      "People call say 'be\n"
     ]
    }
   ],
   "source": [
    "with open('Datos/datos_artistas.txt', 'r',-1,\"utf-8\") as archivo:\n",
    "    contenido = archivo.read()\n",
    "    # Aquí puedes trabajar con el contenido del archivo\n",
    "\n",
    "print(contenido[:200])"
   ]
  },
  {
   "cell_type": "markdown",
   "metadata": {},
   "source": [
    "#### 1.1 La información de cada artista(nombre, correo de contacto, número de contacto y sitio web)."
   ]
  },
  {
   "cell_type": "code",
   "execution_count": 38,
   "metadata": {},
   "outputs": [],
   "source": [
    "patron_correo = r\"[\\w.+-]+@[\\w-]+\\.[\\w.-]+\"\n",
    "patron_web = r\"(?P<url>https?://[^\\s]+)\"\n",
    "patron_telefono = r\"\\d{1,2}\\s\\d{9}\"\n",
    "patron_nombre = r\"^\\w+\"\n",
    "lista_salida_artista = []\n",
    "\n",
    "cadena_split = contenido.split('./')\n",
    "\n",
    "for c in cadena_split:\n",
    "    sub_lista = []\n",
    "    sub_lista.append(re.findall(patron_nombre, c))\n",
    "    sub_lista.append(re.findall(patron_correo, c)) \n",
    "    sub_lista.append(re.findall(patron_telefono, c))\n",
    "    sub_lista.append(re.findall(patron_web, c))\n",
    "    \n",
    "    lista_salida_artista.append(sub_lista)\n"
   ]
  },
  {
   "cell_type": "markdown",
   "metadata": {},
   "source": [
    "#### 1.2 La información de cada canción(título, duración y fecha de lanzamiento)."
   ]
  },
  {
   "cell_type": "code",
   "execution_count": 36,
   "metadata": {},
   "outputs": [],
   "source": [
    "patron_horas = r\"\\d{1}:\\d{2}\"\n",
    "patron_fecha = r\"\\b\\d{4}\\b\"\n",
    "patron_titulo = r\"(\\s[A-Za-z\\s]+) - \\d{1,2}:\\d{2}\"\n",
    "patron_sep_artist = r\"(?<=\\b\\d{4}\\b)(?=\\s)\"\n",
    "\n",
    "cadena_split = contenido.split('./')\n",
    "lista_salida_canciones = []\n",
    "\n",
    "for c in cadena_split:\n",
    "    sub_lista = []\n",
    "\n",
    "    resultado_split_regex = re.split(patron_sep_artist, c)\n",
    "    \n",
    "    sub_lista.append(re.findall(patron_titulo, resultado_split_regex[0]))\n",
    "    sub_lista.append(re.findall(patron_horas, resultado_split_regex[0]))\n",
    "    sub_lista.append(re.findall(patron_fecha, resultado_split_regex[0]))\n",
    "    lista_salida_canciones.append(sub_lista)\n"
   ]
  },
  {
   "cell_type": "markdown",
   "metadata": {},
   "source": [
    "#### 1.3 Almacena la información en una lista de diccionarios donde cada diccionario contenga los datos de un artista y su canción asociada."
   ]
  },
  {
   "cell_type": "code",
   "execution_count": 64,
   "metadata": {},
   "outputs": [
    {
     "name": "stdout",
     "output_type": "stream",
     "text": [
      "[{'nombre': ['BobDylan'], 'email': ['bob.dylan@gmail.com'], 'titulo': [' Like a Rolling Stone'], 'duracion': ['6:13'], 'anio': ['1965']}, {'nombre': ['TheBeatles'], 'email': ['contact@thebeatles.co.uk'], 'titulo': [' Hey Jude'], 'duracion': ['7:11'], 'anio': ['1968']}, {'nombre': ['EltonJohn'], 'email': ['elton.john@hotmail.com'], 'titulo': [' Your Song'], 'duracion': ['4:01'], 'anio': ['1970']}, {'nombre': ['Queen'], 'email': ['info@queenonline.com'], 'titulo': [' Bohemian Rhapsody'], 'duracion': ['5:55'], 'anio': ['1975']}, {'nombre': ['MichaelJackson'], 'email': ['michael.jackson@yahoo.com'], 'titulo': [' Billie Jean'], 'duracion': ['4:54'], 'anio': ['1982']}, {'nombre': ['Madonna'], 'email': ['madonna@madonna.com'], 'titulo': [' Like a Prayer'], 'duracion': ['5:43'], 'anio': ['1989']}, {'nombre': ['DavidBowie'], 'email': ['david.bowie@outlook.com'], 'titulo': [' Space Oddity'], 'duracion': ['5:18'], 'anio': ['1969']}, {'nombre': ['Nirvana'], 'email': ['contact@nirvana.com'], 'titulo': [' Smells Like Teen Spirit'], 'duracion': ['5:01'], 'anio': ['1991']}, {'nombre': ['Adele'], 'email': ['adele@adele.com'], 'titulo': [' Someone Like You'], 'duracion': ['4:45'], 'anio': ['2011']}, {'nombre': ['EdSheeran'], 'email': ['ed.sheeran@gmail.com'], 'titulo': [' Shape of You'], 'duracion': ['3:53'], 'anio': ['2017']}, {'nombre': ['Beyoncé'], 'email': ['beyonce@beyonce.com'], 'titulo': [' Halo'], 'duracion': ['4:21'], 'anio': ['2008']}, {'nombre': ['TaylorSwift'], 'email': ['taylor.swift@yahoo.com'], 'titulo': [' Blank Space'], 'duracion': ['3:52'], 'anio': ['2014']}, {'nombre': ['Rihanna'], 'email': ['rihanna@hotmail.com'], 'titulo': [' Diamonds'], 'duracion': ['3:45'], 'anio': ['2012']}, {'nombre': ['Drake'], 'email': ['drake@drake.com'], 'titulo': [' Hotline Bling'], 'duracion': ['4:27'], 'anio': ['2015']}, {'nombre': ['KanyeWest'], 'email': ['kanye.west@gmail.com'], 'titulo': [' Stronger'], 'duracion': ['5:12'], 'anio': ['2007']}, {'nombre': ['BrunoMars'], 'email': ['bruno.mars@outlook.com'], 'titulo': [' Uptown Funk'], 'duracion': ['4:30'], 'anio': ['2014']}, {'nombre': ['ArianaGrande'], 'email': ['ariana.grande@yahoo.com'], 'titulo': [' Rings'], 'duracion': ['2:58'], 'anio': ['2019']}, {'nombre': ['Shakira'], 'email': ['shakira@hotmail.com'], 'titulo': [' Lie'], 'duracion': ['3:38'], 'anio': ['2006']}, {'nombre': ['Coldplay'], 'email': ['info@coldplay.com'], 'titulo': [' Yellow'], 'duracion': ['4:26'], 'anio': ['2000']}, {'nombre': ['LadyGaga'], 'email': ['lady.gaga@gmail.com'], 'titulo': [' Bad Romance'], 'duracion': ['4:54'], 'anio': ['2009']}]\n"
     ]
    }
   ],
   "source": [
    "\n",
    "lista_de_diccionarios = []\n",
    "\n",
    "for indice, art in enumerate(lista_salida_artista):\n",
    "    for indiceIn, canciones in enumerate(lista_salida_canciones):\n",
    "        if (indiceIn == indice):\n",
    "            mi_diccionario = {\n",
    "            \"nombre\": art[0],\n",
    "            \"email\": art[1],\n",
    "            \"titulo\": canciones[0],\n",
    "            \"duracion\": canciones[1],\n",
    "            \"anio\": canciones[2]\n",
    "             }\n",
    "            lista_de_diccionarios.append(mi_diccionario)\n",
    "\n",
    "print(lista_de_diccionarios)\n",
    "\n"
   ]
  },
  {
   "cell_type": "markdown",
   "metadata": {},
   "source": [
    "### Ejercicio 2: Análisis de datos\n",
    "Usa las **expresiones regulares** para extraer la siguiente información:"
   ]
  },
  {
   "cell_type": "markdown",
   "metadata": {},
   "source": [
    "#### 2.1 Busca la palabra más repetida en el texto completo.\n"
   ]
  },
  {
   "cell_type": "code",
   "execution_count": 19,
   "metadata": {},
   "outputs": [],
   "source": []
  },
  {
   "cell_type": "markdown",
   "metadata": {},
   "source": [
    "#### 2.2 Busca la palabra que más repetida en cada cación.\n"
   ]
  },
  {
   "cell_type": "code",
   "execution_count": 11,
   "metadata": {},
   "outputs": [],
   "source": []
  },
  {
   "cell_type": "markdown",
   "metadata": {},
   "source": [
    "#### 2.3 Busca el nombre de la canción que más dura.\n"
   ]
  },
  {
   "cell_type": "code",
   "execution_count": 30,
   "metadata": {},
   "outputs": [],
   "source": []
  },
  {
   "cell_type": "markdown",
   "metadata": {},
   "source": [
    "#### 2.4 Busca el nombre de la canción que menos dura."
   ]
  },
  {
   "cell_type": "code",
   "execution_count": null,
   "metadata": {},
   "outputs": [],
   "source": []
  },
  {
   "cell_type": "markdown",
   "metadata": {},
   "source": [
    "#### 2.5 Busca el nombre y la fecha de lanzamiento de la canción más actual."
   ]
  },
  {
   "cell_type": "code",
   "execution_count": 39,
   "metadata": {},
   "outputs": [],
   "source": []
  },
  {
   "cell_type": "markdown",
   "metadata": {},
   "source": [
    "#### 2.6 Calcula la cantidad de países a partir de los números de contacto."
   ]
  },
  {
   "cell_type": "code",
   "execution_count": 43,
   "metadata": {},
   "outputs": [],
   "source": []
  },
  {
   "cell_type": "markdown",
   "metadata": {},
   "source": [
    "#### 2.7 Agrupa las canciones por década."
   ]
  },
  {
   "cell_type": "code",
   "execution_count": 47,
   "metadata": {},
   "outputs": [],
   "source": []
  }
 ],
 "metadata": {
  "kernelspec": {
   "display_name": "envpruebas",
   "language": "python",
   "name": "python3"
  },
  "language_info": {
   "codemirror_mode": {
    "name": "ipython",
    "version": 3
   },
   "file_extension": ".py",
   "mimetype": "text/x-python",
   "name": "python",
   "nbconvert_exporter": "python",
   "pygments_lexer": "ipython3",
   "version": "3.12.5"
  }
 },
 "nbformat": 4,
 "nbformat_minor": 2
}
